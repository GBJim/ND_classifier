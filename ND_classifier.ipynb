{
 "cells": [
  {
   "cell_type": "code",
   "execution_count": 4,
   "metadata": {},
   "outputs": [],
   "source": [
    "import numpy as np\n",
    "import cv2\n",
    "import glob\n",
    "from skvideo.io import vreader\n",
    "from sklearn.model_selection import train_test_split\n",
    "from sklearn.linear_model import LogisticRegression\n",
    "import pickle\n",
    "import os\n",
    "#Length of the extracted feature\n",
    "FEATURE_LENGTH = 3\n",
    "#How many frames to sample from a video\n",
    "SAMPLE_NUM = 50 \n",
    "#The method for frame sampling from a video\n",
    "SAMPLE_METHOD = \"random_K\"\n",
    "root = \"/home/jeffshih/work/develop/ND_classifier\""
   ]
  },
  {
   "cell_type": "code",
   "execution_count": 2,
   "metadata": {
    "collapsed": true
   },
   "outputs": [],
   "source": [
    "def get_video_length(video_path):\n",
    "    cap = cv2.VideoCapture(video_path)\n",
    "    i = 0\n",
    "    while(cap.isOpened()):\n",
    "        ret, frame = cap.read()\n",
    "        if frame is None:\n",
    "            break\n",
    "        i +=1 \n",
    "    return i\n",
    "\n",
    "\n",
    "def get_video_paths(target_dir):\n",
    "    video_paths = glob.glob(target_dir + \"/*/*.mp4\")\n",
    "    return video_paths\n",
    "\n",
    "def extract_frames(video_path, samples=3, method=\"top_K\"):\n",
    "    \n",
    "    frames = []\n",
    "    if method == \"top_K\":\n",
    "        cap = cv2.VideoCapture(video_path)\n",
    "        while(cap.isOpened()):\n",
    "            ret, frame = cap.read()\n",
    "            frames.append(frame)\n",
    "            if len(frames) >= samples:\n",
    "                return frames\n",
    "\n",
    "            \n",
    "        \n",
    "    elif method == \"random_K\":\n",
    "        video_length = get_video_length(video_path)\n",
    "        sample_index = np.random.choice(video_length, samples)\n",
    "\n",
    "        cap = cv2.VideoCapture(video_path)\n",
    "        i = 0\n",
    "        while(cap.isOpened()):\n",
    "            ret, frame = cap.read()\n",
    "            if frame is None:\n",
    "                break\n",
    "            elif i in sample_index:\n",
    "                frames.append(frame)\n",
    "\n",
    "            i +=1 \n",
    "    cap.release()\n",
    "    return frames\n",
    "\n",
    "\n",
    "def extract_feature(img):\n",
    "    frame = img\n",
    "    roiWid = 10\n",
    "    #roiEdg = 8\n",
    "    roiEdg = 10\n",
    "    src_height, src_width, src_channels = frame.shape\n",
    "    roiX = int(src_width / roiWid)\n",
    "    roiWidth = roiX * roiEdg\n",
    "    roiY = int(src_height / roiWid)\n",
    "    roiHeight = roiY * roiEdg\n",
    "    RoiImg = frame[roiY : roiY+roiHeight, roiX : roiX+roiWidth]\n",
    "    \n",
    "    \n",
    "    HSV = cv2.cvtColor(img,cv2.COLOR_BGR2HSV)\n",
    "    H,S,V = cv2.split(HSV)\n",
    "    Vue_STD = np.std(V)\n",
    "    Gimg = cv2.cvtColor(img,cv2.COLOR_BGR2GRAY)\n",
    "    G_STD = np.std(Gimg)\n",
    "    hist,bins = np.histogram(img.flatten(),256,[0,256])\n",
    "    hist_STD = np.std(hist)\n",
    "    hist_Mean = np.mean(hist)\n",
    "    r = img[...,2]\n",
    "    g = img[...,1]\n",
    "    b = img[...,0]\n",
    "    rY = 0.212655;\n",
    "    gY = 0.715158;\n",
    "    bY = 0.072187;\n",
    "    inner = RoiImg\n",
    "    ir = inner[...,2]\n",
    "    ig = inner[...,1]\n",
    "    ib = inner[...,0]\n",
    "\n",
    "    Luminance = r*0.2126+g*0.7152+0.0722*b\n",
    "    Li = ir*0.2126+ig*0.7152+0.0722*ib\n",
    "    hei,wid,chan = img.shape\n",
    "    ih,iw,ic = inner.shape\n",
    "    Lum_value = (np.sum(Luminance)-np.sum(Li))/((hei*wid*255)-(ih*iw*255))\n",
    "    \n",
    "    mr = np.sqrt((np.mean(r)-119)*(np.mean(r)-119))\n",
    "    mg = np.sqrt((np.mean(g)-119)*(np.mean(g)-119))\n",
    "    mb = np.sqrt((np.mean(b)-119)*(np.mean(b)-119))\n",
    "    GW_value = (mr+mg+mb)/(3*255)\n",
    "    \n",
    "    return (Vue_STD,Lum_value,G_STD,GW_value)"
   ]
  },
  {
   "cell_type": "markdown",
   "metadata": {},
   "source": [
    "### This part is for retraining the model"
   ]
  },
  {
   "cell_type": "code",
   "execution_count": null,
   "metadata": {},
   "outputs": [],
   "source": [
    "def generate_data(root):\n",
    "    input_dirs = {\"light\":\"Video_Light\", \"dark\":\"Video_Dark\"}\n",
    "    frames = []\n",
    "    Y = []\n",
    "    Xl = []\n",
    "    Xd = []\n",
    "    os.chdir(root)\n",
    "    frame_cnt = 0\n",
    "    for luminance, input_dir in input_dirs.items():\n",
    "        is_dark = True if luminance == \"dark\" else False   \n",
    "        video_paths = get_video_paths(input_dir)\n",
    "        for video_path in video_paths:\n",
    "            os.chdir(root)\n",
    "            new_frame = extract_frames(video_path, SAMPLE_NUM, SAMPLE_METHOD)\n",
    "            Y += ([is_dark] * len(new_frame))\n",
    "            for frame in new_frame :\n",
    "                if (is_dark):\n",
    "                    Xd.append(extract_feature(frame))\n",
    "                else:\n",
    "                    Xl.append(extract_feature(frame))\n",
    "                frame_cnt +=1\n",
    "            print \"Processing : \" + video_path\n",
    "\n",
    "\n",
    "    Y = np.array(Y, dtype=bool)\n",
    "    X = Xl + Xd\n",
    "    return Xl,Xd,X,Y"
   ]
  },
  {
   "cell_type": "code",
   "execution_count": null,
   "metadata": {},
   "outputs": [],
   "source": [
    "from sklearn import svm\n",
    "SVM_classifier = svm.SVC(gamma = 0.001)\n",
    "\n",
    "Xl,Xd,X,Y = generate_data(root)\n",
    "\n",
    "X_train, X_test, Y_train, Y_test = train_test_split(X, Y, test_size=0.1, random_state=i)\n",
    "SVM_classifier.fit(X_train,Y_train)\n",
    "predicted = SVM_classifier.predict(X_test)\n",
    "cnt = 0\n",
    "for i in range(0,len(predicted)):\n",
    "    if (predicted[i] == Y_test[i]):\n",
    "        cnt +=1\n",
    "print cnt,len(predicted)\n",
    "print float(cnt)/len(predicted)"
   ]
  },
  {
   "cell_type": "markdown",
   "metadata": {},
   "source": [
    "### Generating testing set"
   ]
  },
  {
   "cell_type": "code",
   "execution_count": 12,
   "metadata": {},
   "outputs": [],
   "source": [
    "test_file_list = []\n",
    "test_label_list = []\n",
    "for root, subroot, files in os.walk(\"./Test_data\"):\n",
    "    for file_name in files :\n",
    "        if file_name.endswith(\"jpg\"):\n",
    "            test_file_list.append(os.path.join(root,file_name))\n",
    "            if \"Dark\" in root :\n",
    "                test_label_list.append(True)\n",
    "            else:\n",
    "                test_label_list.append(False)   \n"
   ]
  },
  {
   "cell_type": "markdown",
   "metadata": {},
   "source": [
    "### Loading model"
   ]
  },
  {
   "cell_type": "code",
   "execution_count": 6,
   "metadata": {
    "collapsed": true
   },
   "outputs": [],
   "source": [
    "from sklearn.externals import joblib\n",
    "SVM_classifier = joblib.load('SVM_model.pkl')"
   ]
  },
  {
   "cell_type": "markdown",
   "metadata": {},
   "source": [
    "### Testing on the split from the training data"
   ]
  },
  {
   "cell_type": "code",
   "execution_count": null,
   "metadata": {
    "collapsed": true
   },
   "outputs": [],
   "source": [
    "Xl,Xd,X,Y = generate_data(root)\n",
    "X_train, X_test, Y_train, Y_test = train_test_split(X, Y, test_size=0.1, random_state=i)\n",
    "predicted = SVM_classifier.predict(X_test)\n",
    "cnt = 0\n",
    "for i in range(0,len(predicted)):\n",
    "    if (predicted[i] == Y_test[i]):\n",
    "        cnt +=1\n",
    "print cnt,len(predicted)\n",
    "print float(cnt)/len(predicted)"
   ]
  },
  {
   "cell_type": "markdown",
   "metadata": {},
   "source": [
    "### Test on the seperate image set to eliminate the bias"
   ]
  },
  {
   "cell_type": "code",
   "execution_count": 7,
   "metadata": {},
   "outputs": [
    {
     "name": "stdout",
     "output_type": "stream",
     "text": [
      "0.789655172414\n"
     ]
    }
   ],
   "source": [
    "cnt = 0\n",
    "Y_ = []\n",
    "\n",
    "for i in range(0,len(test_label_list)):\n",
    "    img = test_file_list[i]\n",
    "    img = cv2.imread(img)\n",
    "    feature = [extract_feature(img)]\n",
    "    Y = SVM_classifier.predict(feature)\n",
    "    Y_.append(Y)\n",
    "    if (Y[0] == test_label_list[i]):\n",
    "        cnt +=1\n",
    "\n",
    "        \n",
    "print float(cnt) / len(test_label_list)"
   ]
  },
  {
   "cell_type": "markdown",
   "metadata": {},
   "source": [
    "### Dumping the model"
   ]
  },
  {
   "cell_type": "code",
   "execution_count": null,
   "metadata": {},
   "outputs": [],
   "source": [
    "from sklearn.externals import joblib\n",
    "joblib.dump(SVM_classifier,'SVM_model.pkl')"
   ]
  },
  {
   "cell_type": "markdown",
   "metadata": {},
   "source": [
    "### For plotting, can not execute."
   ]
  },
  {
   "cell_type": "code",
   "execution_count": null,
   "metadata": {},
   "outputs": [],
   "source": [
    "import matplotlib.pyplot as plt\n",
    "from mpl_toolkits.mplot3d import Axes3D\n",
    "fig = plt.figure()\n",
    "ax = fig.add_subplot(121,projection ='3d')\n",
    "ax.scatter([i[0] for i in Xl],[i[2] for i in Xl],[i[1] for i in Xl],c='r',marker = 'o')\n",
    "ax.scatter([i[0] for i in Xd],[i[2] for i in Xd],[i[1] for i in Xd],c='b',marker = 'x')\n",
    "ax.view_init(45, 45)\n",
    "ax1 = fig.add_subplot(122,projection ='3d')\n",
    "ax1.scatter([i[0] for i in Xl],[i[2] for i in Xl],[i[1] for i in Xl],c='r',marker = 'o')\n",
    "ax1.scatter([i[0] for i in Xd],[i[2] for i in Xd],[i[1] for i in Xd],c='b',marker = 'x')\n",
    "ax1.view_init(0, 113)\n",
    "plt.show()"
   ]
  },
  {
   "cell_type": "code",
   "execution_count": null,
   "metadata": {
    "collapsed": true
   },
   "outputs": [],
   "source": []
  }
 ],
 "metadata": {
  "kernelspec": {
   "display_name": "Python 2",
   "language": "python",
   "name": "python2"
  },
  "language_info": {
   "codemirror_mode": {
    "name": "ipython",
    "version": 2
   },
   "file_extension": ".py",
   "mimetype": "text/x-python",
   "name": "python",
   "nbconvert_exporter": "python",
   "pygments_lexer": "ipython2",
   "version": "2.7.12"
  }
 },
 "nbformat": 4,
 "nbformat_minor": 2
}
